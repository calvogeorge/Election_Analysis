{
 "cells": [
  {
   "cell_type": "code",
   "execution_count": 3,
   "id": "9f19cac3",
   "metadata": {},
   "outputs": [],
   "source": [
    "#The data we need to retrive.\n",
    "# 1. Total number of votes cast\n",
    "# 2. A complete list of candidates who received votes\n",
    "# 3. The percentage of votes each candidate won\n",
    "# 4. The total number of votes each candidate won\n",
    "# 5. The winner of the elections based on popular vote"
   ]
  },
  {
   "cell_type": "code",
   "execution_count": 36,
   "id": "83888cf7",
   "metadata": {},
   "outputs": [],
   "source": [
    "import os\n",
    "import csv"
   ]
  },
  {
   "cell_type": "code",
   "execution_count": 37,
   "id": "8c8fdf0c",
   "metadata": {},
   "outputs": [],
   "source": [
    "#Open the elections results and read the file\n",
    "\n",
    "file_to_load = os.path.join(\"Resources\", \"election_results.csv\") #assign a variable to read file\n",
    "\n",
    "# assign a filename to save\n",
    "\n",
    "file_to_save = os.path.join(\"Analysis\",\"election_analysis.txt\") #assign variable to write file"
   ]
  },
  {
   "cell_type": "code",
   "execution_count": 38,
   "id": "573ea4a6",
   "metadata": {},
   "outputs": [],
   "source": [
    "total_votes = 0 # variable for vote counter\n",
    "candidate_options=[] # empty list for candidates \n",
    "candidate_votes={} # empty dictionary for candidate votes\n",
    "winning_candidate =\"\"\n",
    "winning_count= 0\n",
    "winning_percentage = 0"
   ]
  },
  {
   "cell_type": "code",
   "execution_count": 56,
   "id": "c33eac66",
   "metadata": {},
   "outputs": [
    {
     "name": "stdout",
     "output_type": "stream",
     "text": [
      "Charles Casper Stockham: 23.0% (1,022,556)\n",
      "\n",
      "Diana DeGette: 73.8% (3,274,704)\n",
      "\n",
      "Raymon Anthony Doane: 3.1% (139,272)\n",
      "\n",
      "----------------------------------------\n",
      "Winner: Diana DeGette\n",
      "Winning Vote Count: 818676\n",
      "Winning Percentage: 73.8\n",
      "----------------------------------------\n",
      "\n"
     ]
    }
   ],
   "source": [
    "\n",
    "# Open the election results and read the file\n",
    "with open(file_to_load) as election_data:\n",
    "        file_reader = csv.reader(election_data)\n",
    "        \n",
    "        headers = next(file_reader)  # Read the header row\n",
    "        \n",
    "        #loop each row in the csv file\n",
    "        for row in file_reader:\n",
    "            total_votes += 1           # add votes to vote counter  (point 1)\n",
    "            \n",
    "            \n",
    "            candidate_name = row[2]    # print name of candidates\n",
    "                                 \n",
    "            \n",
    "            if candidate_name not in candidate_options:  # Add unique candidate name to candidate list (point 2)\n",
    "                candidate_options.append(candidate_name)\n",
    "                \n",
    "                candidate_votes[candidate_name] = 0 # begin tracking candidate's votes\n",
    "                             \n",
    "            candidate_votes[candidate_name] += 1\n",
    "        \n",
    "     \n",
    "        \n",
    "        for candidate_name in candidate_options:    #calculate the vote percentage per candidate (point 3)\n",
    "            votes = candidate_votes[candidate_name]\n",
    "            vote_percentage = (float(votes)/float(total_votes)*100)\n",
    "            print(f\"{candidate_name}: {vote_percentage:.1f}% ({votes:,})\\n\")\n",
    "            \n",
    "            if(votes > winning_count) and (vote_percentage > winning_percentage): # if true set winning count,percentage\n",
    "                winning_count = votes                                             # and candidate to current.\n",
    "                winning_percentage = vote_percentage\n",
    "                winning_candidate = candidate_name\n",
    "        \n",
    "        winning_candidate_summary = (f'{\"-\"*40}\\nWinner: {winning_candidate}\\nWinning Vote Count: {winning_count}\\nWinning Percentage: {winning_percentage:.1f}\\n{\"-\"*40}\\n')\n",
    "            \n",
    "\n",
    "        print(winning_candidate_summary)\n",
    "\n"
   ]
  },
  {
   "cell_type": "code",
   "execution_count": 6,
   "id": "1d85b372",
   "metadata": {},
   "outputs": [],
   "source": []
  },
  {
   "cell_type": "code",
   "execution_count": null,
   "id": "a14337cd",
   "metadata": {},
   "outputs": [],
   "source": []
  },
  {
   "cell_type": "code",
   "execution_count": 42,
   "id": "fd777268",
   "metadata": {},
   "outputs": [],
   "source": [
    "\n",
    "\n"
   ]
  },
  {
   "cell_type": "code",
   "execution_count": 32,
   "id": "791c983b",
   "metadata": {},
   "outputs": [],
   "source": [
    "#Using the with statement open the file as a text file\n",
    "with open(file_to_save,\"w\") as txt_file:\n",
    "#Write three counties to the file\n",
    "    txt_file.write(\"Counties in the Election\\n\")\n",
    "    txt_file.write(f\"{'-'*20}\\nArapahoe\\nDenver\\nJefferson\")"
   ]
  },
  {
   "cell_type": "code",
   "execution_count": null,
   "id": "2f2dd8ef",
   "metadata": {},
   "outputs": [],
   "source": []
  },
  {
   "cell_type": "code",
   "execution_count": 15,
   "id": "a27833d0",
   "metadata": {},
   "outputs": [],
   "source": []
  },
  {
   "cell_type": "code",
   "execution_count": 16,
   "id": "f4948189",
   "metadata": {},
   "outputs": [
    {
     "data": {
      "text/plain": [
       "'D:\\\\Documents\\\\OneDrive - Optimal Health MD\\\\Documents\\\\GitHub\\\\Election_Analysis'"
      ]
     },
     "execution_count": 16,
     "metadata": {},
     "output_type": "execute_result"
    }
   ],
   "source": [
    "pwd"
   ]
  },
  {
   "cell_type": "code",
   "execution_count": null,
   "id": "3ddd1d86",
   "metadata": {},
   "outputs": [],
   "source": []
  }
 ],
 "metadata": {
  "kernelspec": {
   "display_name": "Python 3",
   "language": "python",
   "name": "python3"
  },
  "language_info": {
   "codemirror_mode": {
    "name": "ipython",
    "version": 3
   },
   "file_extension": ".py",
   "mimetype": "text/x-python",
   "name": "python",
   "nbconvert_exporter": "python",
   "pygments_lexer": "ipython3",
   "version": "3.7.10"
  }
 },
 "nbformat": 4,
 "nbformat_minor": 5
}
