{
 "cells": [
  {
   "cell_type": "code",
   "execution_count": 3,
   "id": "9f19cac3",
   "metadata": {},
   "outputs": [],
   "source": [
    "#The data we need to retrive.\n",
    "# 1. Total number of votes cast\n",
    "# 2. A complete list of candidates who received votes\n",
    "# 3. The percentage of votes each candidate won\n",
    "# 4. The total number of votes each candidate won\n",
    "# 5. The winner of the elections based on popular vote"
   ]
  },
  {
   "cell_type": "code",
   "execution_count": 6,
   "id": "83888cf7",
   "metadata": {},
   "outputs": [],
   "source": [
    "import os\n",
    "import csv\n",
    "import random\n",
    "import numpy\n"
   ]
  },
  {
   "cell_type": "code",
   "execution_count": 33,
   "id": "8c8fdf0c",
   "metadata": {},
   "outputs": [],
   "source": [
    "#Open the elections results and read the file\n",
    "file_to_load = os.path.join(\"Resources\", \"election_results.csv\")\n",
    "\n",
    "# Create a filename to save\n",
    "file_to_save = os.path.join(\"Analysis\",\"election_analysis.txt\")"
   ]
  },
  {
   "cell_type": "code",
   "execution_count": 43,
   "id": "c33eac66",
   "metadata": {},
   "outputs": [
    {
     "name": "stdout",
     "output_type": "stream",
     "text": [
      "['Ballot ID', 'County', 'Candidate']\n"
     ]
    }
   ],
   "source": [
    "# Open the election results and read the file\n",
    "with open(file_to_load) as election_data:\n",
    "        file_reader = csv.reader(election_data)\n",
    "        headers = next(file_reader)\n",
    "        print(headers)"
   ]
  },
  {
   "cell_type": "code",
   "execution_count": 42,
   "id": "fd777268",
   "metadata": {},
   "outputs": [],
   "source": [
    "\n",
    "# Print each row in the CSV file.\n"
   ]
  },
  {
   "cell_type": "code",
   "execution_count": 32,
   "id": "791c983b",
   "metadata": {},
   "outputs": [],
   "source": [
    "#Using the with statement open the file as a text file\n",
    "with open(file_to_save,\"w\") as txt_file:\n",
    "#Write three counties to the file\n",
    "    txt_file.write(\"Counties in the Election\\n\")\n",
    "    txt_file.write(f\"{'-'*20}\\nArapahoe\\nDenver\\nJefferson\")"
   ]
  },
  {
   "cell_type": "code",
   "execution_count": null,
   "id": "2f2dd8ef",
   "metadata": {},
   "outputs": [],
   "source": []
  },
  {
   "cell_type": "code",
   "execution_count": 15,
   "id": "a27833d0",
   "metadata": {},
   "outputs": [],
   "source": []
  },
  {
   "cell_type": "code",
   "execution_count": 16,
   "id": "f4948189",
   "metadata": {},
   "outputs": [
    {
     "data": {
      "text/plain": [
       "'D:\\\\Documents\\\\OneDrive - Optimal Health MD\\\\Documents\\\\GitHub\\\\Election_Analysis'"
      ]
     },
     "execution_count": 16,
     "metadata": {},
     "output_type": "execute_result"
    }
   ],
   "source": [
    "pwd"
   ]
  },
  {
   "cell_type": "code",
   "execution_count": null,
   "id": "3ddd1d86",
   "metadata": {},
   "outputs": [],
   "source": []
  }
 ],
 "metadata": {
  "kernelspec": {
   "display_name": "Python 3",
   "language": "python",
   "name": "python3"
  },
  "language_info": {
   "codemirror_mode": {
    "name": "ipython",
    "version": 3
   },
   "file_extension": ".py",
   "mimetype": "text/x-python",
   "name": "python",
   "nbconvert_exporter": "python",
   "pygments_lexer": "ipython3",
   "version": "3.7.10"
  }
 },
 "nbformat": 4,
 "nbformat_minor": 5
}
